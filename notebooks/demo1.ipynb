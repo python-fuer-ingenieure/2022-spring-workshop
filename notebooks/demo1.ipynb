{
 "cells": [
  {
   "cell_type": "code",
   "execution_count": null,
   "metadata": {},
   "outputs": [],
   "source": [
    "# Das ist ein Kommentar\n",
    "\n",
    "\n",
    "print(\"Hello World\")\n",
    "\n",
    "# Zuweisungen und Berechnungen\n",
    "a = 10\n",
    "b = 20.5\n",
    "c = a + b + 3**2\n",
    "\n",
    "\n",
    "import math\n",
    "print(\"Die Wurzel aus \", c, \"ist \", math.sqrt(c))\n",
    "\n",
    "while True: # Endlosschleife\n",
    "    x = input(\"Your name? \")\n",
    "    if x == \"q\":\n",
    "        break # finish loop\n",
    "    print(\"Hello \", x)"
   ]
  },
  {
   "cell_type": "code",
   "execution_count": null,
   "metadata": {},
   "outputs": [],
   "source": []
  },
  {
   "cell_type": "code",
   "execution_count": null,
   "metadata": {},
   "outputs": [],
   "source": []
  },
  {
   "cell_type": "code",
   "execution_count": null,
   "metadata": {},
   "outputs": [],
   "source": []
  },
  {
   "cell_type": "code",
   "execution_count": null,
   "metadata": {},
   "outputs": [],
   "source": []
  },
  {
   "cell_type": "markdown",
   "metadata": {},
   "source": [
    "# Interaktive Demo\n"
   ]
  },
  {
   "cell_type": "code",
   "execution_count": null,
   "metadata": {},
   "outputs": [],
   "source": []
  },
  {
   "cell_type": "code",
   "execution_count": null,
   "metadata": {},
   "outputs": [],
   "source": []
  },
  {
   "cell_type": "code",
   "execution_count": null,
   "metadata": {},
   "outputs": [],
   "source": []
  },
  {
   "cell_type": "code",
   "execution_count": null,
   "metadata": {},
   "outputs": [],
   "source": []
  },
  {
   "cell_type": "code",
   "execution_count": null,
   "metadata": {},
   "outputs": [],
   "source": []
  },
  {
   "cell_type": "code",
   "execution_count": null,
   "metadata": {},
   "outputs": [],
   "source": []
  },
  {
   "cell_type": "code",
   "execution_count": null,
   "metadata": {},
   "outputs": [],
   "source": []
  },
  {
   "cell_type": "code",
   "execution_count": null,
   "metadata": {},
   "outputs": [],
   "source": []
  },
  {
   "cell_type": "code",
   "execution_count": null,
   "metadata": {},
   "outputs": [],
   "source": [
    "import numpy as np\n",
    "import sympy as sp\n",
    "from sympy.interactive import printing\n",
    "printing.init_printing()\n",
    "import matplotlib.pyplot as plt\n",
    "\n",
    "# Diese Erweiterung erlaubt den \"magischen\" Kommentar `##:`\n",
    "%load_ext ipydex.displaytools\n",
    "\n",
    "# %matplotlib inline  # → statische Grafiken\n",
    "# → interaktive Grafiken (Zoomen, Verschieben)\n",
    "%matplotlib widget"
   ]
  },
  {
   "cell_type": "markdown",
   "metadata": {},
   "source": [
    "# Numerische Daten erzeugen und visualisieren"
   ]
  },
  {
   "cell_type": "code",
   "execution_count": null,
   "metadata": {},
   "outputs": [],
   "source": [
    "# Daten erzeugen\n",
    "plt.figure()\n",
    "x = np.linspace(-3, 10, 50) ##:\n",
    "y = x**3\n",
    "\n",
    "# Daten plotten (blau, durchgezogene Linie, und Punktmarkierung)\n",
    "plt.plot(x, y, \"--\")"
   ]
  },
  {
   "cell_type": "markdown",
   "metadata": {},
   "source": [
    "## Beispielproblem\n",
    "\n",
    "Spannungsquelle mit Innenwiderstand wird an Diode mit bekannter Kennlinie angeschlossen. Wie viel Strom fließt?"
   ]
  },
  {
   "cell_type": "code",
   "execution_count": null,
   "metadata": {},
   "outputs": [],
   "source": [
    "plt.figure()\n",
    "\n",
    "# 50 Spannungswerte zwischen 0V und 2V\n",
    "uu = np.linspace(0, 2, 50)\n",
    "\n",
    "# Quellspannung\n",
    "U_q = 5\n",
    "R = 1000\n",
    "\n",
    "i_K = U_q/R  # Kurzschlussstrom\n",
    "\n",
    "\n",
    "# Strom durch einen Widerstand\n",
    "ii_R = i_K - uu/R\n",
    "\n",
    "# Strom durch eine Diode (einfaches Modell )\n",
    "c = 0.0009  # Dioden-Parameter\n",
    "ii_D = c*(np.exp(1*uu) - 1)\n",
    "\n",
    "\n",
    "plt.plot(uu, ii_R, \"-\", label=\"Widerstand\")\n",
    "plt.plot(uu, ii_D, \"-\", label=\"Diode\")\n",
    "plt.legend()\n",
    "\n",
    "plt.xlabel(\"U in V\")\n",
    "plt.ylabel(\"I in A\")\n",
    "plt.grid(True)"
   ]
  },
  {
   "cell_type": "code",
   "execution_count": null,
   "metadata": {},
   "outputs": [],
   "source": [
    "# Schnittpunkt grafisch bestimmen:\n",
    "plt.figure()\n",
    "plt.plot(uu, ii_R - ii_D, '.')\n",
    "plt.plot(uu, ii_R - ii_D, '-', alpha=0.3)\n",
    "\n",
    "plt.grid()\n",
    "plt.xticks(uu)\n",
    "plt.xlim(1.4, 1.8)\n",
    "pass"
   ]
  },
  {
   "cell_type": "code",
   "execution_count": null,
   "metadata": {},
   "outputs": [],
   "source": [
    "# Schnittpunkt numerisch bestimmen:\n",
    "# Ansatz:\n",
    "# Gleichung \"nach 0 umstellen\": i_R - i_D = 0\n",
    "# rechte Seite der Gleichung zurückgeben\n",
    "\n",
    "def equation_rhs(uu):\n",
    "\n",
    "    # Strom durch einen Widerstand\n",
    "    ii_R = i_K - uu/R\n",
    "    # Strom durch eine Diode (einfaches Modell )\n",
    "    ii_D = c*(np.exp(uu) - 1)\n",
    "\n",
    "    return ii_R - ii_D\n",
    "\n",
    "# Funktion so lange durch \"geeignetes Probieren mit verschiedenen uu-Werten\" aufrufen bis sie 0 ergibt.\n",
    "\n",
    "from scipy.optimize import fsolve\n",
    "\n",
    "sol = fsolve(equation_rhs, 1) ##:\n",
    "\n"
   ]
  },
  {
   "cell_type": "code",
   "execution_count": null,
   "metadata": {},
   "outputs": [],
   "source": [
    "equation_rhs(sol)"
   ]
  },
  {
   "cell_type": "code",
   "execution_count": null,
   "metadata": {},
   "outputs": [],
   "source": []
  },
  {
   "cell_type": "code",
   "execution_count": null,
   "metadata": {},
   "outputs": [],
   "source": []
  },
  {
   "cell_type": "markdown",
   "metadata": {},
   "source": [
    "# Numerisches Rechnen (lineare Algebra)\n",
    "\n",
    "Hier wird das Modul `numpy` benuzt. Siehe oben: `import numpy as np`."
   ]
  },
  {
   "cell_type": "code",
   "execution_count": null,
   "metadata": {},
   "outputs": [],
   "source": [
    "# Definieren eines 2d-Arrays (3x3-Matrix)\n",
    "M = np.array([[1, 2, 3], [4, 5, 6], [7, 8, 9.]]) ##:\n",
    "\n",
    "\n",
    "# Elementweise Rechnungen\n",
    "\n",
    "M1 = M * -10 ##:\n",
    "M2 = M + 20 ##:\n",
    "M3 = M**2 ##:\n",
    "\n",
    "\n",
    "# Determinante\n",
    "\n",
    "det_M = np.linalg.det(M) ##:"
   ]
  },
  {
   "cell_type": "code",
   "execution_count": null,
   "metadata": {},
   "outputs": [],
   "source": [
    "# Ein bestimmtes Element adressieren (Index-Zählung beginnt bei 0)\n",
    "\n",
    "M[0, 0] ##:\n",
    "M[1, 2] ##:\n",
    "\n",
    "# bestimmtes Element verändern:\n",
    "\n",
    "M[1, 2] = -5\n",
    "\n",
    "M ##:"
   ]
  },
  {
   "cell_type": "code",
   "execution_count": null,
   "metadata": {},
   "outputs": [],
   "source": [
    "# Mehrere Elemente adressieren (\"indizieren\")\n",
    "\n",
    "# oberen zwei Elemente der \"ersten Spalete\" (Index: 0)\n",
    "M[0:2, 0:1] ##:\n",
    "\n",
    "\n",
    "# erste Spalte (Index 0) mit -1 multiplizieren\n",
    "M[:, 0]*=0.1\n",
    "\n",
    "M ##:\n",
    "\n",
    "# Matrix transponieren\n",
    "\n",
    "Q = M.T ##:\n"
   ]
  },
  {
   "cell_type": "code",
   "execution_count": null,
   "metadata": {},
   "outputs": [],
   "source": [
    "# Eigenwerte und Eigenvektoren bestimmen\n",
    "\n",
    "np.set_printoptions(linewidth=270, precision=8)\n",
    "eigvals, eigvects = np.linalg.eig(M)\n",
    "\n",
    "eigvals ##:\n",
    "eigvects ##:"
   ]
  },
  {
   "cell_type": "markdown",
   "metadata": {},
   "source": [
    "**Beobachtung**: Es resultieren 1 reeller Eigenwert und zwei komplexe (d.h. ein konjugiert komplexes Paar).\n",
    "\n",
    "Nebenbemerkung zu komplexen Zahlen: Die \"imaginäre Einheit\" $i$ bzw. in der Elektrotechnik meist $j$ ist definiert über die Gleichung\n",
    "\n",
    "$$\n",
    "j^2 = j\\cdot j= -1.\n",
    "$$\n",
    "\n",
    "Eine komplexe Zahl $z$ ist die Summe $z = a + b \\cdot j$ mit $a, b \\in \\mathbb{R}$ (reelle Zahlen). In Python schreibt man z.B. `z = -4 + 3j`."
   ]
  },
  {
   "cell_type": "code",
   "execution_count": null,
   "metadata": {},
   "outputs": [],
   "source": [
    "# 1. Wert\n",
    "w0 = eigvals[0] ##\n",
    "\n",
    "# 1. Spalte (-> wird ein 1d-array)\n",
    "v0 = eigvects[:, 0] ##:"
   ]
  },
  {
   "cell_type": "code",
   "execution_count": null,
   "metadata": {},
   "outputs": [],
   "source": [
    "# Matrix-Vektor-Multiplikation:\n",
    "\n",
    "M@v0 ##:\n",
    "\n",
    "# Alternative Notation (rückwärtskompatibel)\n",
    "\n",
    "np.dot(M, v0) ##:\n"
   ]
  },
  {
   "cell_type": "code",
   "execution_count": null,
   "metadata": {},
   "outputs": [],
   "source": [
    "# Prüfen ob w0 bzw. v0 wirklich Eigenwert bzw. Eigenvektor ist von M ist\n",
    "\n",
    "w0*v0 ##:\n",
    "\n",
    "# Es kommt das gleiche Ergebnis wie oben raus (bis auf \"numerisches Rauschen\"):\n",
    "diff = w0*v0 - M@v0 ##:\n"
   ]
  },
  {
   "cell_type": "code",
   "execution_count": null,
   "metadata": {},
   "outputs": [],
   "source": [
    "# Aufspalten in Real- und Imaginärteil\n",
    "\n",
    "eigvals ##:\n",
    "\n",
    "np.real(eigvals) ##:\n",
    "np.imag(eigvals) ##:"
   ]
  },
  {
   "cell_type": "markdown",
   "metadata": {},
   "source": [
    "### Lineare Gleichungssysteme lösen:\n",
    "\n",
    "\n",
    "$$\n",
    "\\mathbf{A}\\cdot\\mathbf{x} = \\mathbf{b}\n",
    "$$"
   ]
  },
  {
   "cell_type": "code",
   "execution_count": null,
   "metadata": {},
   "outputs": [],
   "source": [
    "n = 3\n",
    "\n",
    "A = np.random.random((n, n)) ##:\n",
    "b = np.random.random(n) ##:"
   ]
  },
  {
   "cell_type": "code",
   "execution_count": null,
   "metadata": {},
   "outputs": [],
   "source": [
    "x = np.linalg.solve(A, b) ##:"
   ]
  },
  {
   "cell_type": "code",
   "execution_count": null,
   "metadata": {},
   "outputs": [],
   "source": [
    "# Probe:\n",
    "\n",
    "A@x - b ##:\n",
    "\n"
   ]
  },
  {
   "cell_type": "code",
   "execution_count": null,
   "metadata": {},
   "outputs": [],
   "source": []
  },
  {
   "cell_type": "code",
   "execution_count": null,
   "metadata": {},
   "outputs": [],
   "source": []
  },
  {
   "cell_type": "code",
   "execution_count": null,
   "metadata": {},
   "outputs": [],
   "source": []
  },
  {
   "cell_type": "markdown",
   "metadata": {},
   "source": [
    "# Symbolisches Rechnen\n",
    "\n",
    "Hier wird das Modul `sympy` benuzt. Siehe oben: `import sympy as sp`."
   ]
  },
  {
   "cell_type": "code",
   "execution_count": null,
   "metadata": {},
   "outputs": [],
   "source": [
    "x1, x2 = sp.symbols(\"x1, x2\")\n",
    "\n",
    "f = x1**3 - 7*x1**2 + 2*x1 + 4 ##:"
   ]
  },
  {
   "cell_type": "code",
   "execution_count": null,
   "metadata": {},
   "outputs": [],
   "source": [
    "# 1. Ableitung\n",
    "\n",
    "f.diff(x1)"
   ]
  },
  {
   "cell_type": "code",
   "execution_count": null,
   "metadata": {},
   "outputs": [],
   "source": [
    "# 2. Ableitung\n",
    "f.diff(x1, 2) ##:\n",
    "\n",
    "# ... ausmultipliziert:\n",
    "f.diff(x1, 2).expand() ##:"
   ]
  },
  {
   "cell_type": "code",
   "execution_count": null,
   "metadata": {},
   "outputs": [],
   "source": []
  },
  {
   "cell_type": "code",
   "execution_count": null,
   "metadata": {},
   "outputs": [],
   "source": []
  },
  {
   "cell_type": "code",
   "execution_count": null,
   "metadata": {},
   "outputs": [],
   "source": []
  },
  {
   "cell_type": "code",
   "execution_count": null,
   "metadata": {},
   "outputs": [],
   "source": []
  },
  {
   "cell_type": "markdown",
   "metadata": {},
   "source": [
    "---\n",
    "<br><br><br>\n",
    "\n",
    "In Jupyter-Notebooks lassen sich auch klassische **interaktive** GUI-Elemente nutzen, wie das folgende Beispiel zeigt:\n",
    "\n",
    "## Aufgabe: Visualisierung von Taylor-Polynomen verschiedener Ordnung\n",
    "\n",
    "\n",
    "<div style=\"font-size:150%;\">\n",
    "\n",
    "Geg:\n",
    "\n",
    "- $f(x) = \\sin(ax)$\n",
    "\n",
    "\n",
    "Ges:\n",
    "\n",
    "- grafische Darstellung der Approximation mittels sogenannter \"Taylor-Polynome\" $\\hat f_k(x; x_0) := \\sum_{i=0}^k\\frac{1}{i!}\\left.\\frac{d^i}{dx^i} f(x)\\right|_{x=x_0}$\n",
    "    \n",
    "</div>\n"
   ]
  },
  {
   "cell_type": "code",
   "execution_count": null,
   "metadata": {},
   "outputs": [],
   "source": [
    "# Vorbereitung\n",
    "\n",
    "import numpy as np\n",
    "import matplotlib.pyplot as plt\n",
    "import sympy as sp\n",
    "\n",
    "from sympy import sin\n",
    "\n",
    "# the following requires `pip install symbtools ipywidgets`\n",
    "import symbtools as st\n",
    "from ipywidgets import interact, interactive, fixed, interact_manual, widgets\n",
    "\n",
    "\n",
    "plt.rcParams[\"axes.titlesize\"] = \"xx-large\"\n"
   ]
  },
  {
   "cell_type": "code",
   "execution_count": null,
   "metadata": {},
   "outputs": [],
   "source": [
    "x, x0, a = sp.symbols(\"x, x0, a\")\n",
    "\n",
    "f1 = sin(a*x)# *f1\n",
    "func1 = sp.lambdify((a, x), f1)  # symbolischen Ausdruck in Python-Funktion umwandeln\n",
    "\n",
    "\n",
    "xx_values = np.linspace(-10, 10, 300)\n",
    "\n",
    "a1 = 2\n",
    "plt.figure()\n",
    "plt.plot(xx_values, func1(a1, xx_values))\n",
    "\n"
   ]
  },
  {
   "cell_type": "code",
   "execution_count": null,
   "metadata": {},
   "outputs": [],
   "source": [
    "# Vorabbrechnung der symbolischen Ausdrücke für die Taylor-Approximationen bis zur 12. Ordnung\n",
    "# (Das ist sinnvoll aus Performance-Gründen.)\n",
    "\n",
    "taylor_expressions = []\n",
    "taylor_funcs = []\n",
    "\n",
    "Nmax = 12\n",
    "\n",
    "for i in range(Nmax + 1):\n",
    "    # taylor_expr = sp.series(f2, x, x0, n=i)\n",
    "    taylor_expr = st.multi_taylor(f1, (x,), (x0, ), order=i)\n",
    "    taylor_expressions.append(taylor_expr)\n",
    "    taylor_funcs.append(st.expr_to_func((a, x, x0), taylor_expr.removeO()))\n"
   ]
  },
  {
   "cell_type": "code",
   "execution_count": null,
   "metadata": {},
   "outputs": [],
   "source": [
    "from ipywidgets import interact, interactive, fixed, interact_manual"
   ]
  },
  {
   "cell_type": "code",
   "execution_count": null,
   "metadata": {},
   "outputs": [],
   "source": [
    "# Shift + ← bzw. → zum graduellen Verändern der Bedienelemente benutzen. \n",
    "\n",
    "fapp = sp.Symbol(\"f_approx\")\n",
    "n_slider = widgets.IntSlider(min=0, max=Nmax,step=1,value=1)\n",
    "\n",
    "@interact(x01=(-4.5, 5.5, 0.2), a1=(0.1, 2.0, 0.1), n=n_slider)\n",
    "def plot_func(n, x01, a1):\n",
    "    plt.figure(figsize=(15, 6))\n",
    "    plt.plot(xx_values, func1(a1, xx_values), \"-\", lw=5)  # blue line\n",
    "    plt.plot(xx_values, taylor_funcs[n](a1, xx_values, x01), color=\"tab:orange\", lw=3)\n",
    "    plt.plot([x01], func1(a1, x01), \"o\", ms=10, color=\"tab:orange\")\n",
    "    plt.axis([-10, 10, -1.3, 1.3])\n",
    "    \n",
    "    # Der folgende Code zeigt nützliche Informationen, verlangsamt aber die Visualisierung\n",
    "    if 1:\n",
    "        expr0 = taylor_expressions[n].subs([(x0, x01), (a, a1)])\n",
    "        expr1 = st.simplify_numbers(sp.expand(expr0))\n",
    "        eq = sp.Equality(fapp, expr1)\n",
    "        plt.title(f\"Taylor-Approximation von $f(x) = \\\\sin(ax)$ mit a={a1}\\n${sp.latex(eq)}$\")\n",
    "        \n",
    "\n",
    "    plt.show()\n"
   ]
  },
  {
   "cell_type": "code",
   "execution_count": null,
   "metadata": {},
   "outputs": [],
   "source": [
    "# Einfacheres Beispiel für interact: Slider-Wert mit 5 multiplizieren und ausgeben\n",
    "\n",
    "@interact(n=(0, 7, 1))\n",
    "def print_func(n):\n",
    "    y = 5*n\n",
    "    print(y)\n"
   ]
  }
 ],
 "metadata": {
  "kernelspec": {
   "display_name": "Python 3 (ipykernel)",
   "language": "python",
   "name": "python3"
  },
  "language_info": {
   "codemirror_mode": {
    "name": "ipython",
    "version": 3
   },
   "file_extension": ".py",
   "mimetype": "text/x-python",
   "name": "python",
   "nbconvert_exporter": "python",
   "pygments_lexer": "ipython3",
   "version": "3.11.4"
  }
 },
 "nbformat": 4,
 "nbformat_minor": 4
}
