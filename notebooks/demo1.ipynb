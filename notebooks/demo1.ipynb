{
 "cells": [
  {
   "cell_type": "code",
   "execution_count": 1,
   "metadata": {},
   "outputs": [],
   "source": [
    "import numpy as np\n",
    "import sympy as sp\n",
    "from sympy.interactive import printing\n",
    "printing.init_printing()\n",
    "import matplotlib.pyplot as plt\n",
    "\n",
    "# Diese Erweiterung erlaubt den \"magischen\" Kommentar `##:`\n",
    "%load_ext ipydex.displaytools\n",
    "# %matplotlib inline"
   ]
  },
  {
   "cell_type": "markdown",
   "metadata": {},
   "source": [
    "# Datenvisualisierung"
   ]
  },
  {
   "cell_type": "code",
   "execution_count": 2,
   "metadata": {},
   "outputs": [
    {
     "data": {
      "text/plain": [
       "[<matplotlib.lines.Line2D at 0x7f59659d93a0>]"
      ]
     },
     "execution_count": 2,
     "metadata": {},
     "output_type": "execute_result"
    }
   ],
   "source": [
    "# Daten erzeugen\n",
    "x = np.linspace(-3, 10, 50)\n",
    "y = x**2\n",
    "\n",
    "# Daten plotten (blau, durchgezogene Linie, und Punktmarkierung)\n",
    "plt.plot(x, y, \".-\")"
   ]
  },
  {
   "cell_type": "code",
   "execution_count": 3,
   "metadata": {},
   "outputs": [],
   "source": [
    "uu = np.linspace(0, 2, 50)\n",
    "\n",
    "\n",
    "R = 1000\n",
    "\n",
    "ii_R = uu/R\n",
    "ii_D = 0.0004*(np.exp(1*uu) - 1)\n",
    "\n",
    "\n",
    "plt.plot(uu, ii_R, \"-\", label=\"Widerstand\")\n",
    "plt.plot(uu, ii_D, \"-\", label=\"Diode\")\n",
    "plt.legend()\n",
    "\n",
    "plt.xlabel(\"U in V\")\n",
    "plt.ylabel(\"I in A\")\n",
    "plt.grid(True)"
   ]
  },
  {
   "cell_type": "code",
   "execution_count": 4,
   "metadata": {},
   "outputs": [],
   "source": [
    "%matplotlib inline"
   ]
  },
  {
   "cell_type": "code",
   "execution_count": 5,
   "metadata": {},
   "outputs": [],
   "source": [
    "# Schnittpunkt numerisch bestimmen:\n",
    "\n",
    "plt.plot(uu, ii_R - ii_D, '.')\n",
    "plt.plot(uu, ii_R - ii_D, '-', alpha=0.3)\n",
    "\n",
    "plt.grid()\n",
    "plt.xticks(uu)\n",
    "plt.xlim(1.4, 1.8)\n",
    "pass"
   ]
  },
  {
   "cell_type": "markdown",
   "metadata": {},
   "source": [
    "---\n",
    "<br><br><br>\n",
    "\n",
    "In Jupyter-Notebooks lassen sich auch klassische **interaktive** GUI-Elemente nutzen, wie das folgende Beispiel zeigt:\n",
    "\n",
    "## Aufgabe: Visualisierung von Taylor-Polynomen verschiedener Ordnung\n",
    "\n",
    "\n",
    "<div style=\"font-size:150%;\">\n",
    "\n",
    "Geg:\n",
    "\n",
    "- $f(x) = \\sin(ax)$\n",
    "\n",
    "\n",
    "Ges:\n",
    "\n",
    "- grafische Darstellung der Approximation mittels sogenannter \"Taylor-Polynome\" $\\hat f_k(x; x_0) := \\sum_{i=0}^k\\frac{1}{k!}\\left.\\frac{d^k}{dx^k} f(x)\\right|_{x=x_0}$\n",
    "    \n",
    "</div>\n"
   ]
  },
  {
   "cell_type": "code",
   "execution_count": 6,
   "metadata": {},
   "outputs": [],
   "source": [
    "# Vorbereitung\n",
    "\n",
    "import numpy as np\n",
    "import matplotlib.pyplot as plt\n",
    "import sympy as sp\n",
    "\n",
    "from sympy import sin\n",
    "\n",
    "# the following requires `pip install symbtools ipywidgets`\n",
    "import symbtools as st\n",
    "from ipywidgets import interact, interactive, fixed, interact_manual, widgets\n",
    "\n",
    "plt.rcParams[\"axes.titlesize\"] = \"xx-large\"\n"
   ]
  },
  {
   "cell_type": "code",
   "execution_count": 7,
   "metadata": {},
   "outputs": [
    {
     "data": {
      "image/png": "[encoded data removed]",
      "text/plain": [
       "<Figure size 640x480 with 1 Axes>"
      ]
     },
     "metadata": {},
     "output_type": "display_data"
    }
   ],
   "source": [
    "x, x0, a = sp.symbols(\"x, x0, a\")\n",
    "\n",
    "f1 = sin(a*x)# *f1\n",
    "func1 = sp.lambdify((a, x), f1)\n",
    "\n",
    "\n",
    "xx_values = np.linspace(-10, 10, 300)\n",
    "\n",
    "a1 = 2\n",
    "plt.plot(xx_values, func1(a1, xx_values))\n",
    "plt.show()\n"
   ]
  },
  {
   "cell_type": "code",
   "execution_count": 8,
   "metadata": {},
   "outputs": [],
   "source": [
    "# Vorabbrechnung der symbolischen Ausdrücke für die Taylor-Approximationen bis zur 12. Ordnung\n",
    "# (Das ist sinnvoll aus Performance-Gründen.)\n",
    "\n",
    "taylor_expressions = []\n",
    "taylor_funcs = []\n",
    "\n",
    "Nmax = 12\n",
    "\n",
    "for i in range(Nmax + 1):\n",
    "    # taylor_expr = sp.series(f2, x, x0, n=i)\n",
    "    taylor_expr = st.multi_taylor(f1, (x,), (x0, ), order=i)\n",
    "    taylor_expressions.append(taylor_expr)\n",
    "    taylor_funcs.append(st.expr_to_func((a, x, x0), taylor_expr.removeO()))\n"
   ]
  },
  {
   "cell_type": "code",
   "execution_count": 9,
   "metadata": {},
   "outputs": [],
   "source": [
    "from ipywidgets import interact, interactive, fixed, interact_manual"
   ]
  },
  {
   "cell_type": "code",
   "execution_count": 12,
   "metadata": {},
   "outputs": [
    {
     "data": {
      "application/vnd.jupyter.widget-view+json": {
       "model_id": "33dc722f46544e798b69a79c398139bc",
       "version_major": 2,
       "version_minor": 0
      },
      "text/plain": [
       "interactive(children=(IntSlider(value=1, description='n', max=12), FloatSlider(value=0.5, description='x01', m…"
      ]
     },
     "metadata": {},
     "output_type": "display_data"
    }
   ],
   "source": [
    "# Shift + ← bzw. → zum graduellen Verändern der Bedienelemente benutzen. \n",
    "\n",
    "fapp = sp.Symbol(\"f_approx\")\n",
    "n_slider = widgets.IntSlider(min=0, max=Nmax,step=1,value=1)\n",
    "\n",
    "@interact(x01=(-4.5, 5.5, 0.2), a1=(0.1, 2.0, 0.1), n=n_slider)\n",
    "def plot_func(n, x01, a1):\n",
    "    plt.figure(figsize=(15, 6))\n",
    "    plt.plot(xx_values, func1(a1, xx_values), \"-\", lw=5)  # blue line\n",
    "    plt.plot(xx_values, taylor_funcs[n](a1, xx_values, x01), color=\"tab:orange\", lw=3)\n",
    "    plt.plot([x01], func1(a1, x01), \"o\", ms=10, color=\"tab:orange\")\n",
    "    plt.axis([-10, 10, -1.3, 1.3])\n",
    "    \n",
    "    # Der folgende Code zeigt nützliche Informationen, verlangsamt aber die Visualisierung\n",
    "    if 1:\n",
    "        expr0 = taylor_expressions[n].subs([(x0, x01), (a, a1)])\n",
    "        expr1 = (st.simplify_numbers(expr0))\n",
    "        eq = sp.Equality(fapp, expr1)\n",
    "        plt.title(f\"Taylor-Approximation von $f(x) = \\\\sin(ax)$ mit a={a1}\\n${sp.latex(eq)}$\")\n",
    "        \n",
    "\n",
    "    plt.show()\n"
   ]
  },
  {
   "cell_type": "code",
   "execution_count": 11,
   "metadata": {},
   "outputs": [],
   "source": [
    "q = (st.simplify_numbers(taylor_expressions[3].subs([(x0, 1.7), (a, 1.2)])))"
   ]
  },
  {
   "cell_type": "code",
   "execution_count": 47,
   "metadata": {},
   "outputs": [
    {
     "data": {
      "image/png": "[encoded data removed]",
      "text/latex": [
       "$\\displaystyle - 0.641700864 x^{2} + 1.639656 x + 0.64 \\left(0.588 x - 1.0\\right)^{3.0} - 0.042$"
      ],
      "text/plain": [
       "               2                                    3.0        \n",
       "- 0.641700864⋅x  + 1.639656⋅x + 0.64⋅(0.588⋅x - 1.0)    - 0.042"
      ]
     },
     "execution_count": 47,
     "metadata": {},
     "output_type": "execute_result"
    }
   ],
   "source": [
    "q.subs([(2.0, 2)]).expand()"
   ]
  },
  {
   "cell_type": "code",
   "execution_count": 13,
   "metadata": {},
   "outputs": [
    {
     "data": {
      "application/vnd.jupyter.widget-view+json": {
       "model_id": "617c6862d8aa4815aa4a3c2e7f9bb28e",
       "version_major": 2,
       "version_minor": 0
      },
      "text/plain": [
       "interactive(children=(IntSlider(value=3, description='n', max=7), Output()), _dom_classes=('widget-interact',)…"
      ]
     },
     "metadata": {},
     "output_type": "display_data"
    }
   ],
   "source": [
    "# Einfacheres Beispiel für interact: Slider-Wert mit 5 multiplizieren und ausgeben\n",
    "\n",
    "@interact(n=(0, 7, 1))\n",
    "def print_func(n):\n",
    "    y = 5*n\n",
    "    print(y)\n"
   ]
  },
  {
   "cell_type": "code",
   "execution_count": 4,
   "metadata": {},
   "outputs": [],
   "source": [
    "\n",
    "# Bisher war das Plot-Ergebnis eingebettet.\n",
    "# Man kann es aber auch interaktiv anzeigen (gut für Zoom etc)\n",
    "%matplotlib qt\n",
    "plt.plot(x, y, \"r-\")\n",
    "plt.plot(x, y2, \"c-\")\n",
    "plt.grid(1)"
   ]
  },
  {
   "cell_type": "markdown",
   "metadata": {},
   "source": [
    "# Numerisches Rechnen (lineare Algebra)\n",
    "\n",
    "Hier wird das Modul `numpy` benuzt. Siehe oben: `import numpy as np`."
   ]
  },
  {
   "cell_type": "code",
   "execution_count": 5,
   "metadata": {},
   "outputs": [
    {
     "data": {
      "text/plain": [
       "M := array([[1., 2., 3.],\n",
       "            [4., 5., 6.],\n",
       "            [7., 8., 9.]])"
      ]
     },
     "metadata": {},
     "output_type": "display_data"
    },
    {
     "name": "stdout",
     "output_type": "stream",
     "text": [
      "---\n"
     ]
    },
    {
     "data": {
      "text/plain": [
       "M1 := array([[-10., -20., -30.],\n",
       "             [-40., -50., -60.],\n",
       "             [-70., -80., -90.]])"
      ]
     },
     "metadata": {},
     "output_type": "display_data"
    },
    {
     "name": "stdout",
     "output_type": "stream",
     "text": [
      "---\n"
     ]
    },
    {
     "data": {
      "text/plain": [
       "M2 := array([[21., 22., 23.],\n",
       "             [24., 25., 26.],\n",
       "             [27., 28., 29.]])"
      ]
     },
     "metadata": {},
     "output_type": "display_data"
    },
    {
     "name": "stdout",
     "output_type": "stream",
     "text": [
      "---\n"
     ]
    },
    {
     "data": {
      "text/plain": [
       "M3 := array([[ 1.,  4.,  9.],\n",
       "             [16., 25., 36.],\n",
       "             [49., 64., 81.]])"
      ]
     },
     "metadata": {},
     "output_type": "display_data"
    },
    {
     "name": "stdout",
     "output_type": "stream",
     "text": [
      "---\n"
     ]
    },
    {
     "data": {
      "image/png": "[encoded data removed]",
      "text/latex": [
       "$$\\verb|det_M| := 0.0$$"
      ],
      "text/plain": [
       "det_M := 0.0"
      ]
     },
     "metadata": {},
     "output_type": "display_data"
    },
    {
     "name": "stdout",
     "output_type": "stream",
     "text": [
      "---\n"
     ]
    }
   ],
   "source": [
    "# Definieren eines 2d-Arrays (3x3-Matrix)\n",
    "M = np.array([[1, 2, 3], [4, 5, 6], [7, 8, 9.]]) ##:\n",
    "\n",
    "\n",
    "# Elementweise Rechnungen\n",
    "\n",
    "M1 = M * -10 ##:\n",
    "M2 = M + 20 ##:\n",
    "M3 = M**2 ##:\n",
    "\n",
    "\n",
    "# Determinante\n",
    "\n",
    "det_M = np.linalg.det(M) ##:"
   ]
  },
  {
   "cell_type": "code",
   "execution_count": 6,
   "metadata": {},
   "outputs": [
    {
     "data": {
      "image/png": "[encoded data removed]",
      "text/latex": [
       "$$\\verb|M[0, 0] | := 1.0$$"
      ],
      "text/plain": [
       "M[0, 0]  := 1.0"
      ]
     },
     "metadata": {},
     "output_type": "display_data"
    },
    {
     "name": "stdout",
     "output_type": "stream",
     "text": [
      "___\n"
     ]
    },
    {
     "data": {
      "image/png": "[encoded data removed]",
      "text/latex": [
       "$$\\verb|M[1, 2] | := 6.0$$"
      ],
      "text/plain": [
       "M[1, 2]  := 6.0"
      ]
     },
     "metadata": {},
     "output_type": "display_data"
    },
    {
     "name": "stdout",
     "output_type": "stream",
     "text": [
      "___\n"
     ]
    },
    {
     "data": {
      "text/plain": [
       "M  := array([[ 1.,  2.,  3.],\n",
       "             [ 4.,  5., -5.],\n",
       "             [ 7.,  8.,  9.]])"
      ]
     },
     "metadata": {},
     "output_type": "display_data"
    },
    {
     "name": "stdout",
     "output_type": "stream",
     "text": [
      "___\n"
     ]
    }
   ],
   "source": [
    "# Ein bestimmtes Element adressieren (Index-Zählung beginnt bei 0)\n",
    "\n",
    "M[0, 0] ##:\n",
    "M[1, 2] ##:\n",
    "\n",
    "# bestimmtes Element verändern:\n",
    "\n",
    "M[1, 2] = -5\n",
    "\n",
    "M ##:"
   ]
  },
  {
   "cell_type": "code",
   "execution_count": 7,
   "metadata": {},
   "outputs": [
    {
     "data": {
      "text/plain": [
       "M[0:2, 0:1]  := array([[1.],\n",
       "                       [4.]])"
      ]
     },
     "metadata": {},
     "output_type": "display_data"
    },
    {
     "name": "stdout",
     "output_type": "stream",
     "text": [
      "___\n"
     ]
    },
    {
     "data": {
      "text/plain": [
       "M  := array([[ 0.1,  2. ,  3. ],\n",
       "             [ 0.4,  5. , -5. ],\n",
       "             [ 0.7,  8. ,  9. ]])"
      ]
     },
     "metadata": {},
     "output_type": "display_data"
    },
    {
     "name": "stdout",
     "output_type": "stream",
     "text": [
      "___\n"
     ]
    },
    {
     "data": {
      "text/plain": [
       "Q := array([[ 0.1,  0.4,  0.7],\n",
       "            [ 2. ,  5. ,  8. ],\n",
       "            [ 3. , -5. ,  9. ]])"
      ]
     },
     "metadata": {},
     "output_type": "display_data"
    },
    {
     "name": "stdout",
     "output_type": "stream",
     "text": [
      "---\n"
     ]
    }
   ],
   "source": [
    "# Mehrere Elemente adressieren (\"indizieren\")\n",
    "\n",
    "# oberen zwei Elemente der \"ersten Spalete\" (Index: 0)\n",
    "M[0:2, 0:1] ##:\n",
    "\n",
    "\n",
    "# erste Spalte (Index 0) mit -1 multiplizieren\n",
    "M[:, 0]*=0.1\n",
    "\n",
    "M ##:\n",
    "\n",
    "# Matrix transponieren\n",
    "\n",
    "Q = M.T ##:\n"
   ]
  },
  {
   "cell_type": "code",
   "execution_count": 8,
   "metadata": {},
   "outputs": [
    {
     "data": {
      "text/plain": [
       "eigvals  := array([-0.07800865+0.j        ,  7.08900432+5.86106005j,  7.08900432-5.86106005j])"
      ]
     },
     "metadata": {},
     "output_type": "display_data"
    },
    {
     "name": "stdout",
     "output_type": "stream",
     "text": [
      "___\n"
     ]
    },
    {
     "data": {
      "text/plain": [
       "eigvects  := array([[ 0.99657905+0.j        , -0.23770953+0.03821822j, -0.23770953-0.03821822j],\n",
       "                    [-0.08254304+0.j        ,  0.20329509-0.56306126j,  0.20329509+0.56306126j],\n",
       "                    [-0.00410453+0.j        , -0.7639808 +0.j        , -0.7639808 -0.j        ]])"
      ]
     },
     "metadata": {},
     "output_type": "display_data"
    },
    {
     "name": "stdout",
     "output_type": "stream",
     "text": [
      "___\n"
     ]
    }
   ],
   "source": [
    "# Eigenwerte und Eigenvektoren bestimmen\n",
    "\n",
    "np.set_printoptions(linewidth=270, precision=8)\n",
    "eigvals, eigvects = np.linalg.eig(M)\n",
    "\n",
    "eigvals ##:\n",
    "eigvects ##:"
   ]
  },
  {
   "cell_type": "markdown",
   "metadata": {},
   "source": [
    "**Beobachtung**: Es resultieren 1 reeller Eigenwert und zwei komplexe (d.h. ein konjugiert komplexes Paar).\n",
    "\n",
    "Nebenbemerkung zu komplexen Zahlen: Die \"imaginäre Einheit\" $i$ bzw. in der Elektrotechnik meist $j$ ist definiert über die Gleichung\n",
    "\n",
    "$$\n",
    "j^2 = j\\cdot j= -1.\n",
    "$$\n",
    "\n",
    "Eine komplexe Zahl $z$ ist die Summe $z = a + b \\cdot j$ mit $a, b \\in \\mathbb{R}$ (reelle Zahlen). In Python schreibt man z.B. `z = -4 + 3j`."
   ]
  },
  {
   "cell_type": "code",
   "execution_count": 9,
   "metadata": {},
   "outputs": [
    {
     "data": {
      "text/plain": [
       "(-0.0780086451878039+0j)"
      ]
     },
     "metadata": {},
     "output_type": "display_data"
    },
    {
     "name": "stdout",
     "output_type": "stream",
     "text": [
      "---\n"
     ]
    },
    {
     "data": {
      "text/plain": [
       "v0 := array([ 0.99657905+0.j, -0.08254304+0.j, -0.00410453+0.j])"
      ]
     },
     "metadata": {},
     "output_type": "display_data"
    },
    {
     "name": "stdout",
     "output_type": "stream",
     "text": [
      "---\n"
     ]
    }
   ],
   "source": [
    "# 1. Wert\n",
    "w0 = eigvals[0] ##\n",
    "\n",
    "# 1. Spalte (-> wird ein 1d-array)\n",
    "v0 = eigvects[:, 0] ##:"
   ]
  },
  {
   "cell_type": "code",
   "execution_count": 10,
   "metadata": {},
   "outputs": [
    {
     "data": {
      "text/plain": [
       "M@v0  := array([-0.07774178+0.j,  0.00643907+0.j,  0.00032019+0.j])"
      ]
     },
     "metadata": {},
     "output_type": "display_data"
    },
    {
     "name": "stdout",
     "output_type": "stream",
     "text": [
      "___\n"
     ]
    },
    {
     "data": {
      "text/plain": [
       "np.dot(M, v0)  := array([-0.07774178+0.j,  0.00643907+0.j,  0.00032019+0.j])"
      ]
     },
     "metadata": {},
     "output_type": "display_data"
    },
    {
     "name": "stdout",
     "output_type": "stream",
     "text": [
      "___\n"
     ]
    }
   ],
   "source": [
    "# Matrix-Vektor-Multiplikation:\n",
    "\n",
    "M@v0 ##:\n",
    "\n",
    "# Alternative Notation (rückwärtskompatibel)\n",
    "\n",
    "np.dot(M, v0) ##:\n"
   ]
  },
  {
   "cell_type": "code",
   "execution_count": 11,
   "metadata": {},
   "outputs": [
    {
     "data": {
      "text/plain": [
       "w0*v0  := array([-0.07774178+0.j,  0.00643907-0.j,  0.00032019-0.j])"
      ]
     },
     "metadata": {},
     "output_type": "display_data"
    },
    {
     "name": "stdout",
     "output_type": "stream",
     "text": [
      "___\n"
     ]
    },
    {
     "data": {
      "text/plain": [
       "diff := array([2.77555756e-17+0.j, 1.95156391e-16-0.j, 1.92445886e-16-0.j])"
      ]
     },
     "metadata": {},
     "output_type": "display_data"
    },
    {
     "name": "stdout",
     "output_type": "stream",
     "text": [
      "---\n"
     ]
    }
   ],
   "source": [
    "# Prüfen ob w0 bzw. v0 wirklich Eigenwert bzw. Eigenvektor ist von M ist\n",
    "\n",
    "w0*v0 ##:\n",
    "\n",
    "# Es kommt das gleiche Ergebnis wie oben raus (bis auf \"numerisches Rauschen\"):\n",
    "diff = w0*v0 - M@v0 ##:\n"
   ]
  },
  {
   "cell_type": "code",
   "execution_count": 12,
   "metadata": {},
   "outputs": [
    {
     "data": {
      "text/plain": [
       "eigvals  := array([-0.07800865+0.j        ,  7.08900432+5.86106005j,  7.08900432-5.86106005j])"
      ]
     },
     "metadata": {},
     "output_type": "display_data"
    },
    {
     "name": "stdout",
     "output_type": "stream",
     "text": [
      "___\n"
     ]
    },
    {
     "data": {
      "text/plain": [
       "np.real(eigvals)  := array([-0.07800865,  7.08900432,  7.08900432])"
      ]
     },
     "metadata": {},
     "output_type": "display_data"
    },
    {
     "name": "stdout",
     "output_type": "stream",
     "text": [
      "___\n"
     ]
    },
    {
     "data": {
      "text/plain": [
       "np.imag(eigvals)  := array([ 0.        ,  5.86106005, -5.86106005])"
      ]
     },
     "metadata": {},
     "output_type": "display_data"
    },
    {
     "name": "stdout",
     "output_type": "stream",
     "text": [
      "___\n"
     ]
    }
   ],
   "source": [
    "# Aufspalten in Real- und Imaginärteil\n",
    "\n",
    "eigvals ##:\n",
    "\n",
    "np.real(eigvals) ##:\n",
    "np.imag(eigvals) ##:"
   ]
  },
  {
   "cell_type": "markdown",
   "metadata": {},
   "source": [
    "# Symbolisches Rechnen\n",
    "\n",
    "Hier wird das Modul `sympy` benuzt. Siehe oben: `import sympy as sp`."
   ]
  },
  {
   "cell_type": "code",
   "execution_count": 13,
   "metadata": {},
   "outputs": [
    {
     "data": {
      "image/png": "[encoded data removed]",
      "text/latex": [
       "$$\\verb|f| := x_{1}^{3} - 7 x_{1}^{2} + 2 x_{1} + 4$$"
      ],
      "text/plain": [
       "f :=   3       2           \n",
       "x₁  - 7⋅x₁  + 2⋅x₁ + 4"
      ]
     },
     "metadata": {},
     "output_type": "display_data"
    },
    {
     "name": "stdout",
     "output_type": "stream",
     "text": [
      "---\n"
     ]
    }
   ],
   "source": [
    "x1, x2 = sp.symbols(\"x1, x2\")\n",
    "\n",
    "f = x1**3 - 7*x1**2 + 2*x1 + 4 ##:"
   ]
  },
  {
   "cell_type": "code",
   "execution_count": 14,
   "metadata": {},
   "outputs": [
    {
     "data": {
      "image/png": "[encoded data removed]",
      "text/latex": [
       "$$3 x_{1}^{2} - 14 x_{1} + 2$$"
      ],
      "text/plain": [
       "    2            \n",
       "3⋅x₁  - 14⋅x₁ + 2"
      ]
     },
     "execution_count": 14,
     "metadata": {},
     "output_type": "execute_result"
    }
   ],
   "source": [
    "# 1. Ableitung\n",
    "\n",
    "f.diff(x1)"
   ]
  },
  {
   "cell_type": "code",
   "execution_count": 15,
   "metadata": {},
   "outputs": [
    {
     "data": {
      "image/png": "[encoded data removed]",
      "text/latex": [
       "$$\\verb|f.diff(x1, 2) | := 2 \\left(3 x_{1} - 7\\right)$$"
      ],
      "text/plain": [
       "f.diff(x1, 2)  := 2⋅(3⋅x₁ - 7)"
      ]
     },
     "metadata": {},
     "output_type": "display_data"
    },
    {
     "name": "stdout",
     "output_type": "stream",
     "text": [
      "___\n"
     ]
    },
    {
     "data": {
      "image/png": "[encoded data removed]",
      "text/latex": [
       "$$\\verb|f.diff(x1, 2).expand() | := 6 x_{1} - 14$$"
      ],
      "text/plain": [
       "f.diff(x1, 2).expand()  := 6⋅x₁ - 14"
      ]
     },
     "metadata": {},
     "output_type": "display_data"
    },
    {
     "name": "stdout",
     "output_type": "stream",
     "text": [
      "___\n"
     ]
    }
   ],
   "source": [
    "# 2. Ableitung\n",
    "f.diff(x1, 2) ##:\n",
    "\n",
    "# ... ausmultipliziert:\n",
    "f.diff(x1, 2).expand() ##:"
   ]
  }
 ],
 "metadata": {
  "kernelspec": {
   "display_name": "Python 3 (ipykernel)",
   "language": "python",
   "name": "python3"
  },
  "language_info": {
   "codemirror_mode": {
    "name": "ipython",
    "version": 3
   },
   "file_extension": ".py",
   "mimetype": "text/x-python",
   "name": "python",
   "nbconvert_exporter": "python",
   "pygments_lexer": "ipython3",
   "version": "3.12.4"
  }
 },
 "nbformat": 4,
 "nbformat_minor": 4
}
